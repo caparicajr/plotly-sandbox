{
 "cells": [
  {
   "cell_type": "markdown",
   "id": "pleased-elite",
   "metadata": {},
   "source": [
    "# Selecting scattered data using plotly\n",
    "\n",
    "##### Jose Caparica - caparicajr@gmail.com - Mar/2021\n",
    "\n",
    "##### Roughly based on examples taken from:\n",
    "- https://plotly.com/python/v3/selection-events/\n",
    "\n",
    "- https://stackoverflow.com/questions/57006458/how-to-assign-color-value-using-plotly-based-on-column-value\n",
    "\n",
    "\n",
    "\n",
    "##### Useful Ref:\n",
    "- https://plotly.com/python/reference/scatter/\n",
    "\n",
    "- https://plotly.com/python-api-reference/generated/plotly.graph_objects.Scatter.html"
   ]
  },
  {
   "cell_type": "markdown",
   "id": "given-popularity",
   "metadata": {},
   "source": [
    "### Using Iris dataset as example\n"
   ]
  },
  {
   "cell_type": "code",
   "execution_count": 1,
   "id": "dressed-transparency",
   "metadata": {},
   "outputs": [],
   "source": [
    "import plotly.express as px\n",
    "df = px.data.iris()\n",
    "#features = [\"sepal_width\", \"sepal_length\", \"petal_width\", \"petal_length\"]\n",
    "\n"
   ]
  },
  {
   "cell_type": "markdown",
   "id": "naval-iraqi",
   "metadata": {},
   "source": [
    "### Importing the tools we need"
   ]
  },
  {
   "cell_type": "code",
   "execution_count": 2,
   "id": "explicit-socket",
   "metadata": {},
   "outputs": [],
   "source": [
    "import plotly.graph_objs as go\n",
    "import pandas as pd\n",
    "import numpy as np\n",
    "from ipywidgets import interactive, HBox, VBox\n",
    "\n",
    "#This should probably be fixed. It is needed to avoid a recurring warning message\n",
    "pd.set_option('mode.chained_assignment',None)"
   ]
  },
  {
   "cell_type": "markdown",
   "id": "russian-desperate",
   "metadata": {},
   "source": [
    "### Here's the actual code:"
   ]
  },
  {
   "cell_type": "code",
   "execution_count": 3,
   "id": "biological-prophet",
   "metadata": {},
   "outputs": [
    {
     "data": {
      "application/vnd.jupyter.widget-view+json": {
       "model_id": "e3a10e694fc8419e8c014e9f4b51d090",
       "version_major": 2,
       "version_minor": 0
      },
      "text/plain": [
       "VBox(children=(HBox(children=(Dropdown(description='xaxis', options=('sepal_length', 'sepal_width', 'petal_len…"
      ]
     },
     "metadata": {},
     "output_type": "display_data"
    }
   ],
   "source": [
    "df = df.assign( Selection=pd.Series(np.zeros(len(df)), dtype='int8').values )\n",
    "\n",
    "\n",
    "f = go.FigureWidget([go.Scatter(y = df['petal_width'], x = df['petal_length'], marker = dict ( color = df['Selection'].map({0:'red', 1:'green'})), mode = 'markers')])\n",
    "scatter = f.data[0]\n",
    "        \n",
    "\n",
    "def update_axes(xaxis, yaxis, group):\n",
    "    scatter = f.data[0]\n",
    "    scatter.x = df[xaxis]\n",
    "    scatter.y = df[yaxis]\n",
    "    with f.batch_update():\n",
    "        f.layout.xaxis.title = xaxis\n",
    "        f.layout.yaxis.title = yaxis\n",
    "    f.update_traces(marker = dict ( color = df[group].map({0:'red', 1:'green'})))\n",
    "\n",
    "\n",
    "        \n",
    "def selection_fn(trace,points,selector):\n",
    "    df['Selection'] = pd.Series(np.zeros(len(df)), dtype='int8').values \n",
    "    for i in points.point_inds:\n",
    "        df['Selection'][i] = 1\n",
    "    f.update_traces(marker = dict ( color = df['Selection'].map({0:'red', 1:'green'})))\n",
    "\n",
    "\n",
    "\n",
    "scatter.on_selection(selection_fn)\n",
    "\n",
    "dropdowns = interactive(update_axes, yaxis = df.select_dtypes('float64').columns, xaxis = df.select_dtypes('float64').columns,  group = df.select_dtypes('int8').columns)\n",
    "\n",
    "VBox((HBox(dropdowns.children),f))\n",
    "\n"
   ]
  },
  {
   "cell_type": "markdown",
   "id": "statewide-closing",
   "metadata": {},
   "source": [
    "#### If we want to take a snapshot from the selection and \"save\" it as a new column, we could just use something like this:"
   ]
  },
  {
   "cell_type": "code",
   "execution_count": 6,
   "id": "private-business",
   "metadata": {},
   "outputs": [],
   "source": [
    "\n",
    "df = df.assign( Class_1=df['Selection'] )\n"
   ]
  },
  {
   "cell_type": "markdown",
   "id": "valued-receptor",
   "metadata": {},
   "source": [
    "#### There result can be seen by just printing the dataframe"
   ]
  },
  {
   "cell_type": "code",
   "execution_count": 4,
   "id": "handmade-handbook",
   "metadata": {},
   "outputs": [
    {
     "data": {
      "text/html": [
       "<div>\n",
       "<style scoped>\n",
       "    .dataframe tbody tr th:only-of-type {\n",
       "        vertical-align: middle;\n",
       "    }\n",
       "\n",
       "    .dataframe tbody tr th {\n",
       "        vertical-align: top;\n",
       "    }\n",
       "\n",
       "    .dataframe thead th {\n",
       "        text-align: right;\n",
       "    }\n",
       "</style>\n",
       "<table border=\"1\" class=\"dataframe\">\n",
       "  <thead>\n",
       "    <tr style=\"text-align: right;\">\n",
       "      <th></th>\n",
       "      <th>sepal_length</th>\n",
       "      <th>sepal_width</th>\n",
       "      <th>petal_length</th>\n",
       "      <th>petal_width</th>\n",
       "      <th>species</th>\n",
       "      <th>species_id</th>\n",
       "      <th>Selection</th>\n",
       "    </tr>\n",
       "  </thead>\n",
       "  <tbody>\n",
       "    <tr>\n",
       "      <th>0</th>\n",
       "      <td>5.1</td>\n",
       "      <td>3.5</td>\n",
       "      <td>1.4</td>\n",
       "      <td>0.2</td>\n",
       "      <td>setosa</td>\n",
       "      <td>1</td>\n",
       "      <td>0</td>\n",
       "    </tr>\n",
       "    <tr>\n",
       "      <th>1</th>\n",
       "      <td>4.9</td>\n",
       "      <td>3.0</td>\n",
       "      <td>1.4</td>\n",
       "      <td>0.2</td>\n",
       "      <td>setosa</td>\n",
       "      <td>1</td>\n",
       "      <td>0</td>\n",
       "    </tr>\n",
       "    <tr>\n",
       "      <th>2</th>\n",
       "      <td>4.7</td>\n",
       "      <td>3.2</td>\n",
       "      <td>1.3</td>\n",
       "      <td>0.2</td>\n",
       "      <td>setosa</td>\n",
       "      <td>1</td>\n",
       "      <td>0</td>\n",
       "    </tr>\n",
       "    <tr>\n",
       "      <th>3</th>\n",
       "      <td>4.6</td>\n",
       "      <td>3.1</td>\n",
       "      <td>1.5</td>\n",
       "      <td>0.2</td>\n",
       "      <td>setosa</td>\n",
       "      <td>1</td>\n",
       "      <td>0</td>\n",
       "    </tr>\n",
       "    <tr>\n",
       "      <th>4</th>\n",
       "      <td>5.0</td>\n",
       "      <td>3.6</td>\n",
       "      <td>1.4</td>\n",
       "      <td>0.2</td>\n",
       "      <td>setosa</td>\n",
       "      <td>1</td>\n",
       "      <td>0</td>\n",
       "    </tr>\n",
       "    <tr>\n",
       "      <th>...</th>\n",
       "      <td>...</td>\n",
       "      <td>...</td>\n",
       "      <td>...</td>\n",
       "      <td>...</td>\n",
       "      <td>...</td>\n",
       "      <td>...</td>\n",
       "      <td>...</td>\n",
       "    </tr>\n",
       "    <tr>\n",
       "      <th>145</th>\n",
       "      <td>6.7</td>\n",
       "      <td>3.0</td>\n",
       "      <td>5.2</td>\n",
       "      <td>2.3</td>\n",
       "      <td>virginica</td>\n",
       "      <td>3</td>\n",
       "      <td>0</td>\n",
       "    </tr>\n",
       "    <tr>\n",
       "      <th>146</th>\n",
       "      <td>6.3</td>\n",
       "      <td>2.5</td>\n",
       "      <td>5.0</td>\n",
       "      <td>1.9</td>\n",
       "      <td>virginica</td>\n",
       "      <td>3</td>\n",
       "      <td>1</td>\n",
       "    </tr>\n",
       "    <tr>\n",
       "      <th>147</th>\n",
       "      <td>6.5</td>\n",
       "      <td>3.0</td>\n",
       "      <td>5.2</td>\n",
       "      <td>2.0</td>\n",
       "      <td>virginica</td>\n",
       "      <td>3</td>\n",
       "      <td>0</td>\n",
       "    </tr>\n",
       "    <tr>\n",
       "      <th>148</th>\n",
       "      <td>6.2</td>\n",
       "      <td>3.4</td>\n",
       "      <td>5.4</td>\n",
       "      <td>2.3</td>\n",
       "      <td>virginica</td>\n",
       "      <td>3</td>\n",
       "      <td>1</td>\n",
       "    </tr>\n",
       "    <tr>\n",
       "      <th>149</th>\n",
       "      <td>5.9</td>\n",
       "      <td>3.0</td>\n",
       "      <td>5.1</td>\n",
       "      <td>1.8</td>\n",
       "      <td>virginica</td>\n",
       "      <td>3</td>\n",
       "      <td>1</td>\n",
       "    </tr>\n",
       "  </tbody>\n",
       "</table>\n",
       "<p>150 rows × 7 columns</p>\n",
       "</div>"
      ],
      "text/plain": [
       "     sepal_length  sepal_width  petal_length  petal_width    species  \\\n",
       "0             5.1          3.5           1.4          0.2     setosa   \n",
       "1             4.9          3.0           1.4          0.2     setosa   \n",
       "2             4.7          3.2           1.3          0.2     setosa   \n",
       "3             4.6          3.1           1.5          0.2     setosa   \n",
       "4             5.0          3.6           1.4          0.2     setosa   \n",
       "..            ...          ...           ...          ...        ...   \n",
       "145           6.7          3.0           5.2          2.3  virginica   \n",
       "146           6.3          2.5           5.0          1.9  virginica   \n",
       "147           6.5          3.0           5.2          2.0  virginica   \n",
       "148           6.2          3.4           5.4          2.3  virginica   \n",
       "149           5.9          3.0           5.1          1.8  virginica   \n",
       "\n",
       "     species_id  Selection  \n",
       "0             1          0  \n",
       "1             1          0  \n",
       "2             1          0  \n",
       "3             1          0  \n",
       "4             1          0  \n",
       "..          ...        ...  \n",
       "145           3          0  \n",
       "146           3          1  \n",
       "147           3          0  \n",
       "148           3          1  \n",
       "149           3          1  \n",
       "\n",
       "[150 rows x 7 columns]"
      ]
     },
     "execution_count": 4,
     "metadata": {},
     "output_type": "execute_result"
    }
   ],
   "source": [
    "df"
   ]
  },
  {
   "cell_type": "markdown",
   "id": "liable-peninsula",
   "metadata": {},
   "source": [
    "#### Instead of having the above cell, I would like to have some method like this"
   ]
  },
  {
   "cell_type": "code",
   "execution_count": 4,
   "id": "indian-agreement",
   "metadata": {},
   "outputs": [],
   "source": [
    "def SaveClass(data=df, name=None):\n",
    "    \n",
    "    if name:\n",
    "        name.replace(\" \", \"_\")\n",
    "    else:\n",
    "        n = data.shape[1] - n_cols\n",
    "        name = str(\"Class_\") + str(n)\n",
    "    data = data.assign( name=data['Selection'] )\n"
   ]
  },
  {
   "cell_type": "markdown",
   "id": "continuing-course",
   "metadata": {},
   "source": [
    "#### but it's not working.  I noticed the assign method would require a different approach.. these dicts are making me crazy\n"
   ]
  },
  {
   "cell_type": "code",
   "execution_count": null,
   "id": "vulnerable-hearts",
   "metadata": {},
   "outputs": [],
   "source": []
  },
  {
   "cell_type": "code",
   "execution_count": null,
   "id": "developmental-deadline",
   "metadata": {},
   "outputs": [],
   "source": []
  },
  {
   "cell_type": "code",
   "execution_count": null,
   "id": "national-flower",
   "metadata": {},
   "outputs": [],
   "source": []
  }
 ],
 "metadata": {
  "kernelspec": {
   "display_name": "Python 3",
   "language": "python",
   "name": "python3"
  },
  "language_info": {
   "codemirror_mode": {
    "name": "ipython",
    "version": 3
   },
   "file_extension": ".py",
   "mimetype": "text/x-python",
   "name": "python",
   "nbconvert_exporter": "python",
   "pygments_lexer": "ipython3",
   "version": "3.8.8"
  }
 },
 "nbformat": 4,
 "nbformat_minor": 5
}
